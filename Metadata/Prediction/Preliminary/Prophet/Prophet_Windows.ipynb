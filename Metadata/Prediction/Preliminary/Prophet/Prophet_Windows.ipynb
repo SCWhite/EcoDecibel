{
 "cells": [
  {
   "cell_type": "markdown",
   "id": "0522567c",
   "metadata": {},
   "source": [
    "# 1 Prophet"
   ]
  },
  {
   "cell_type": "markdown",
   "id": "600dff78",
   "metadata": {},
   "source": [
    "# Dependencies"
   ]
  },
  {
   "cell_type": "code",
   "execution_count": 1,
   "id": "cbe0c357",
   "metadata": {},
   "outputs": [],
   "source": [
    "import warnings; \n",
    "warnings.simplefilter('ignore')"
   ]
  },
  {
   "cell_type": "code",
   "execution_count": 2,
   "id": "4a59ba64",
   "metadata": {
    "scrolled": true
   },
   "outputs": [
    {
     "name": "stdout",
     "output_type": "stream",
     "text": [
      "Requirement already satisfied: pystan==2.19.1.1 in c:\\anaconda3\\envs\\time_series\\lib\\site-packages (2.19.1.1)\n",
      "Requirement already satisfied: Cython!=0.25.1,>=0.22 in c:\\anaconda3\\envs\\time_series\\lib\\site-packages (from pystan==2.19.1.1) (0.29.27)\n",
      "Requirement already satisfied: numpy>=1.7 in c:\\users\\sakshi saraswat\\appdata\\roaming\\python\\python38\\site-packages (from pystan==2.19.1.1) (1.21.5)\n"
     ]
    }
   ],
   "source": [
    "!pip install pystan==2.19.1.1"
   ]
  },
  {
   "cell_type": "code",
   "execution_count": 3,
   "id": "64f6d194",
   "metadata": {},
   "outputs": [
    {
     "name": "stdout",
     "output_type": "stream",
     "text": [
      "Requirement already satisfied: pandas in c:\\anaconda3\\envs\\time_series\\lib\\site-packages (1.4.0)\n",
      "Requirement already satisfied: fbprophet in c:\\anaconda3\\envs\\time_series\\lib\\site-packages (0.7.1)\n",
      "Requirement already satisfied: numpy>=1.18.5 in c:\\users\\sakshi saraswat\\appdata\\roaming\\python\\python38\\site-packages (from pandas) (1.21.5)\n",
      "Requirement already satisfied: pytz>=2020.1 in c:\\anaconda3\\envs\\time_series\\lib\\site-packages (from pandas) (2021.3)\n",
      "Requirement already satisfied: python-dateutil>=2.8.1 in c:\\anaconda3\\envs\\time_series\\lib\\site-packages (from pandas) (2.8.2)\n",
      "Requirement already satisfied: matplotlib>=2.0.0 in c:\\anaconda3\\envs\\time_series\\lib\\site-packages (from fbprophet) (3.5.1)\n",
      "Requirement already satisfied: Cython>=0.22 in c:\\anaconda3\\envs\\time_series\\lib\\site-packages (from fbprophet) (0.29.27)\n",
      "Requirement already satisfied: holidays>=0.10.2 in c:\\anaconda3\\envs\\time_series\\lib\\site-packages (from fbprophet) (0.12)\n",
      "Requirement already satisfied: setuptools-git>=1.2 in c:\\anaconda3\\envs\\time_series\\lib\\site-packages (from fbprophet) (1.2)\n",
      "Requirement already satisfied: tqdm>=4.36.1 in c:\\anaconda3\\envs\\time_series\\lib\\site-packages (from fbprophet) (4.62.3)\n",
      "Requirement already satisfied: LunarCalendar>=0.0.9 in c:\\anaconda3\\envs\\time_series\\lib\\site-packages (from fbprophet) (0.0.9)\n",
      "Requirement already satisfied: pystan>=2.14 in c:\\anaconda3\\envs\\time_series\\lib\\site-packages (from fbprophet) (2.19.1.1)\n",
      "Requirement already satisfied: cmdstanpy==0.9.5 in c:\\anaconda3\\envs\\time_series\\lib\\site-packages (from fbprophet) (0.9.5)\n",
      "Requirement already satisfied: convertdate>=2.1.2 in c:\\anaconda3\\envs\\time_series\\lib\\site-packages (from fbprophet) (2.4.0)\n",
      "Requirement already satisfied: pymeeus<=1,>=0.3.13 in c:\\anaconda3\\envs\\time_series\\lib\\site-packages (from convertdate>=2.1.2->fbprophet) (0.5.10)\n",
      "Requirement already satisfied: hijri-converter in c:\\anaconda3\\envs\\time_series\\lib\\site-packages (from holidays>=0.10.2->fbprophet) (2.2.2)\n",
      "Requirement already satisfied: korean-lunar-calendar in c:\\anaconda3\\envs\\time_series\\lib\\site-packages (from holidays>=0.10.2->fbprophet) (0.2.1)\n",
      "Requirement already satisfied: ephem>=3.7.5.3 in c:\\anaconda3\\envs\\time_series\\lib\\site-packages (from LunarCalendar>=0.0.9->fbprophet) (3.7.7.1)\n",
      "Requirement already satisfied: kiwisolver>=1.0.1 in c:\\anaconda3\\envs\\time_series\\lib\\site-packages (from matplotlib>=2.0.0->fbprophet) (1.3.2)\n",
      "Requirement already satisfied: cycler>=0.10 in c:\\anaconda3\\envs\\time_series\\lib\\site-packages (from matplotlib>=2.0.0->fbprophet) (0.11.0)\n",
      "Requirement already satisfied: packaging>=20.0 in c:\\anaconda3\\envs\\time_series\\lib\\site-packages (from matplotlib>=2.0.0->fbprophet) (21.3)\n",
      "Requirement already satisfied: fonttools>=4.22.0 in c:\\anaconda3\\envs\\time_series\\lib\\site-packages (from matplotlib>=2.0.0->fbprophet) (4.29.1)\n",
      "Requirement already satisfied: pyparsing>=2.2.1 in c:\\anaconda3\\envs\\time_series\\lib\\site-packages (from matplotlib>=2.0.0->fbprophet) (3.0.7)\n",
      "Requirement already satisfied: pillow>=6.2.0 in c:\\anaconda3\\envs\\time_series\\lib\\site-packages (from matplotlib>=2.0.0->fbprophet) (8.4.0)\n",
      "Requirement already satisfied: six>=1.5 in c:\\anaconda3\\envs\\time_series\\lib\\site-packages (from python-dateutil>=2.8.1->pandas) (1.16.0)\n",
      "Requirement already satisfied: colorama in c:\\anaconda3\\envs\\time_series\\lib\\site-packages (from tqdm>=4.36.1->fbprophet) (0.4.4)\n"
     ]
    }
   ],
   "source": [
    "!pip install pandas fbprophet"
   ]
  },
  {
   "cell_type": "code",
   "execution_count": 4,
   "id": "102ddb99",
   "metadata": {},
   "outputs": [],
   "source": [
    "import pandas as pd\n",
    "from fbprophet import Prophet"
   ]
  },
  {
   "cell_type": "markdown",
   "id": "f809076a",
   "metadata": {},
   "source": [
    "# Processing Dataset"
   ]
  },
  {
   "cell_type": "code",
   "execution_count": 5,
   "id": "7d56a5c2",
   "metadata": {},
   "outputs": [],
   "source": [
    "df = pd.read_csv('G:/My Drive/NYCU/Research/Noise_Forecasting/Prophet/Noise_DateStamp.csv')"
   ]
  },
  {
   "cell_type": "code",
   "execution_count": 6,
   "id": "683ca90d",
   "metadata": {},
   "outputs": [
    {
     "data": {
      "text/plain": [
       "ID              object\n",
       "DateStamp       object\n",
       "Hourly_Mean    float64\n",
       "dtype: object"
      ]
     },
     "execution_count": 6,
     "metadata": {},
     "output_type": "execute_result"
    }
   ],
   "source": [
    "#df.head()\n",
    "#df.describe()\n",
    "#print (df['ID'].unique())\n",
    "df.dtypes"
   ]
  },
  {
   "cell_type": "code",
   "execution_count": 7,
   "id": "8c09e10f",
   "metadata": {},
   "outputs": [
    {
     "data": {
      "text/html": [
       "<div>\n",
       "<style scoped>\n",
       "    .dataframe tbody tr th:only-of-type {\n",
       "        vertical-align: middle;\n",
       "    }\n",
       "\n",
       "    .dataframe tbody tr th {\n",
       "        vertical-align: top;\n",
       "    }\n",
       "\n",
       "    .dataframe thead th {\n",
       "        text-align: right;\n",
       "    }\n",
       "</style>\n",
       "<table border=\"1\" class=\"dataframe\">\n",
       "  <thead>\n",
       "    <tr style=\"text-align: right;\">\n",
       "      <th></th>\n",
       "      <th>ID</th>\n",
       "      <th>DateStamp</th>\n",
       "      <th>Hourly_Mean</th>\n",
       "      <th>Year</th>\n",
       "      <th>Month</th>\n",
       "      <th>Day</th>\n",
       "      <th>ds</th>\n",
       "    </tr>\n",
       "  </thead>\n",
       "  <tbody>\n",
       "    <tr>\n",
       "      <th>0</th>\n",
       "      <td>A01</td>\n",
       "      <td>29-11-2021 00:00</td>\n",
       "      <td>63.561928</td>\n",
       "      <td>21</td>\n",
       "      <td>11</td>\n",
       "      <td>29</td>\n",
       "      <td>2021-11-29</td>\n",
       "    </tr>\n",
       "    <tr>\n",
       "      <th>1</th>\n",
       "      <td>A01</td>\n",
       "      <td>29-11-2021 01:00</td>\n",
       "      <td>61.952215</td>\n",
       "      <td>21</td>\n",
       "      <td>11</td>\n",
       "      <td>29</td>\n",
       "      <td>2021-11-29</td>\n",
       "    </tr>\n",
       "    <tr>\n",
       "      <th>2</th>\n",
       "      <td>A01</td>\n",
       "      <td>29-11-2021 02:00</td>\n",
       "      <td>61.190951</td>\n",
       "      <td>21</td>\n",
       "      <td>11</td>\n",
       "      <td>29</td>\n",
       "      <td>2021-11-29</td>\n",
       "    </tr>\n",
       "    <tr>\n",
       "      <th>3</th>\n",
       "      <td>A01</td>\n",
       "      <td>29-11-2021 03:00</td>\n",
       "      <td>59.555024</td>\n",
       "      <td>21</td>\n",
       "      <td>11</td>\n",
       "      <td>29</td>\n",
       "      <td>2021-11-29</td>\n",
       "    </tr>\n",
       "    <tr>\n",
       "      <th>4</th>\n",
       "      <td>A01</td>\n",
       "      <td>29-11-2021 04:00</td>\n",
       "      <td>59.309026</td>\n",
       "      <td>21</td>\n",
       "      <td>11</td>\n",
       "      <td>29</td>\n",
       "      <td>2021-11-29</td>\n",
       "    </tr>\n",
       "  </tbody>\n",
       "</table>\n",
       "</div>"
      ],
      "text/plain": [
       "    ID         DateStamp  Hourly_Mean Year Month Day         ds\n",
       "0  A01  29-11-2021 00:00    63.561928   21    11  29 2021-11-29\n",
       "1  A01  29-11-2021 01:00    61.952215   21    11  29 2021-11-29\n",
       "2  A01  29-11-2021 02:00    61.190951   21    11  29 2021-11-29\n",
       "3  A01  29-11-2021 03:00    59.555024   21    11  29 2021-11-29\n",
       "4  A01  29-11-2021 04:00    59.309026   21    11  29 2021-11-29"
      ]
     },
     "execution_count": 7,
     "metadata": {},
     "output_type": "execute_result"
    }
   ],
   "source": [
    "df['Year'] = df['DateStamp'].apply(lambda x: str(x)[-8:-6])\n",
    "df['Month'] = df['DateStamp'].apply(lambda x: str(x)[-13:-11])\n",
    "df['Day'] = df['DateStamp'].apply(lambda x: str(x)[-16:-14])\n",
    "df['ds'] = pd.DatetimeIndex(df['Day']+'-'+df['Month']+'-'+df['Year'])\n",
    "\n",
    "#df.dtypes\n",
    "df.head()"
   ]
  },
  {
   "cell_type": "code",
   "execution_count": 8,
   "id": "f43d659d",
   "metadata": {},
   "outputs": [
    {
     "data": {
      "text/html": [
       "<div>\n",
       "<style scoped>\n",
       "    .dataframe tbody tr th:only-of-type {\n",
       "        vertical-align: middle;\n",
       "    }\n",
       "\n",
       "    .dataframe tbody tr th {\n",
       "        vertical-align: top;\n",
       "    }\n",
       "\n",
       "    .dataframe thead th {\n",
       "        text-align: right;\n",
       "    }\n",
       "</style>\n",
       "<table border=\"1\" class=\"dataframe\">\n",
       "  <thead>\n",
       "    <tr style=\"text-align: right;\">\n",
       "      <th></th>\n",
       "      <th>y</th>\n",
       "      <th>ds</th>\n",
       "    </tr>\n",
       "  </thead>\n",
       "  <tbody>\n",
       "    <tr>\n",
       "      <th>0</th>\n",
       "      <td>63.561928</td>\n",
       "      <td>2021-11-29</td>\n",
       "    </tr>\n",
       "    <tr>\n",
       "      <th>1</th>\n",
       "      <td>61.952215</td>\n",
       "      <td>2021-11-29</td>\n",
       "    </tr>\n",
       "    <tr>\n",
       "      <th>2</th>\n",
       "      <td>61.190951</td>\n",
       "      <td>2021-11-29</td>\n",
       "    </tr>\n",
       "    <tr>\n",
       "      <th>3</th>\n",
       "      <td>59.555024</td>\n",
       "      <td>2021-11-29</td>\n",
       "    </tr>\n",
       "    <tr>\n",
       "      <th>4</th>\n",
       "      <td>59.309026</td>\n",
       "      <td>2021-11-29</td>\n",
       "    </tr>\n",
       "  </tbody>\n",
       "</table>\n",
       "</div>"
      ],
      "text/plain": [
       "           y         ds\n",
       "0  63.561928 2021-11-29\n",
       "1  61.952215 2021-11-29\n",
       "2  61.190951 2021-11-29\n",
       "3  59.555024 2021-11-29\n",
       "4  59.309026 2021-11-29"
      ]
     },
     "execution_count": 8,
     "metadata": {},
     "output_type": "execute_result"
    }
   ],
   "source": [
    "#df = df.loc[(df['ID']==A01)\n",
    "df.drop(['ID', 'DateStamp', 'Year', 'Month', 'Day'], axis=1, inplace=True)\n",
    "df.columns = ['y', 'ds']\n",
    "df.head()"
   ]
  },
  {
   "cell_type": "markdown",
   "id": "f60c8ebd",
   "metadata": {},
   "source": [
    "# Model Training"
   ]
  },
  {
   "cell_type": "code",
   "execution_count": 10,
   "id": "b586b949",
   "metadata": {},
   "outputs": [
    {
     "name": "stderr",
     "output_type": "stream",
     "text": [
      "INFO:fbprophet:Disabling yearly seasonality. Run prophet with yearly_seasonality=True to override this.\n",
      "INFO:fbprophet:Disabling daily seasonality. Run prophet with daily_seasonality=True to override this.\n"
     ]
    }
   ],
   "source": [
    "m = Prophet(interval_width=0.95)\n",
    "model = m.fit(df)"
   ]
  },
  {
   "cell_type": "markdown",
   "id": "648def5d",
   "metadata": {},
   "source": [
    "# Forecasting"
   ]
  },
  {
   "cell_type": "code",
   "execution_count": 26,
   "id": "c2e351c7",
   "metadata": {},
   "outputs": [
    {
     "data": {
      "text/html": [
       "<div>\n",
       "<style scoped>\n",
       "    .dataframe tbody tr th:only-of-type {\n",
       "        vertical-align: middle;\n",
       "    }\n",
       "\n",
       "    .dataframe tbody tr th {\n",
       "        vertical-align: top;\n",
       "    }\n",
       "\n",
       "    .dataframe thead th {\n",
       "        text-align: right;\n",
       "    }\n",
       "</style>\n",
       "<table border=\"1\" class=\"dataframe\">\n",
       "  <thead>\n",
       "    <tr style=\"text-align: right;\">\n",
       "      <th></th>\n",
       "      <th>ds</th>\n",
       "      <th>trend</th>\n",
       "      <th>yhat_lower</th>\n",
       "      <th>yhat_upper</th>\n",
       "      <th>trend_lower</th>\n",
       "      <th>trend_upper</th>\n",
       "      <th>additive_terms</th>\n",
       "      <th>additive_terms_lower</th>\n",
       "      <th>additive_terms_upper</th>\n",
       "      <th>weekly</th>\n",
       "      <th>weekly_lower</th>\n",
       "      <th>weekly_upper</th>\n",
       "      <th>multiplicative_terms</th>\n",
       "      <th>multiplicative_terms_lower</th>\n",
       "      <th>multiplicative_terms_upper</th>\n",
       "      <th>yhat</th>\n",
       "    </tr>\n",
       "  </thead>\n",
       "  <tbody>\n",
       "    <tr>\n",
       "      <th>0</th>\n",
       "      <td>2021-01-12</td>\n",
       "      <td>67.367885</td>\n",
       "      <td>61.960895</td>\n",
       "      <td>73.170969</td>\n",
       "      <td>67.367885</td>\n",
       "      <td>67.367885</td>\n",
       "      <td>0.330680</td>\n",
       "      <td>0.330680</td>\n",
       "      <td>0.330680</td>\n",
       "      <td>0.330680</td>\n",
       "      <td>0.330680</td>\n",
       "      <td>0.330680</td>\n",
       "      <td>0.0</td>\n",
       "      <td>0.0</td>\n",
       "      <td>0.0</td>\n",
       "      <td>67.698565</td>\n",
       "    </tr>\n",
       "    <tr>\n",
       "      <th>1</th>\n",
       "      <td>2021-02-12</td>\n",
       "      <td>67.273538</td>\n",
       "      <td>60.809389</td>\n",
       "      <td>72.730936</td>\n",
       "      <td>67.273538</td>\n",
       "      <td>67.273538</td>\n",
       "      <td>-0.538776</td>\n",
       "      <td>-0.538776</td>\n",
       "      <td>-0.538776</td>\n",
       "      <td>-0.538776</td>\n",
       "      <td>-0.538776</td>\n",
       "      <td>-0.538776</td>\n",
       "      <td>0.0</td>\n",
       "      <td>0.0</td>\n",
       "      <td>0.0</td>\n",
       "      <td>66.734762</td>\n",
       "    </tr>\n",
       "    <tr>\n",
       "      <th>2</th>\n",
       "      <td>2021-03-12</td>\n",
       "      <td>67.188321</td>\n",
       "      <td>61.106251</td>\n",
       "      <td>72.346486</td>\n",
       "      <td>67.188321</td>\n",
       "      <td>67.188321</td>\n",
       "      <td>-0.538776</td>\n",
       "      <td>-0.538776</td>\n",
       "      <td>-0.538776</td>\n",
       "      <td>-0.538776</td>\n",
       "      <td>-0.538776</td>\n",
       "      <td>-0.538776</td>\n",
       "      <td>0.0</td>\n",
       "      <td>0.0</td>\n",
       "      <td>0.0</td>\n",
       "      <td>66.649546</td>\n",
       "    </tr>\n",
       "    <tr>\n",
       "      <th>3</th>\n",
       "      <td>2021-04-12</td>\n",
       "      <td>67.093975</td>\n",
       "      <td>61.165755</td>\n",
       "      <td>72.487322</td>\n",
       "      <td>67.093975</td>\n",
       "      <td>67.093975</td>\n",
       "      <td>-0.337056</td>\n",
       "      <td>-0.337056</td>\n",
       "      <td>-0.337056</td>\n",
       "      <td>-0.337056</td>\n",
       "      <td>-0.337056</td>\n",
       "      <td>-0.337056</td>\n",
       "      <td>0.0</td>\n",
       "      <td>0.0</td>\n",
       "      <td>0.0</td>\n",
       "      <td>66.756919</td>\n",
       "    </tr>\n",
       "    <tr>\n",
       "      <th>4</th>\n",
       "      <td>2021-05-12</td>\n",
       "      <td>67.064460</td>\n",
       "      <td>60.176550</td>\n",
       "      <td>71.802601</td>\n",
       "      <td>67.064460</td>\n",
       "      <td>67.064460</td>\n",
       "      <td>-1.182810</td>\n",
       "      <td>-1.182810</td>\n",
       "      <td>-1.182810</td>\n",
       "      <td>-1.182810</td>\n",
       "      <td>-1.182810</td>\n",
       "      <td>-1.182810</td>\n",
       "      <td>0.0</td>\n",
       "      <td>0.0</td>\n",
       "      <td>0.0</td>\n",
       "      <td>65.881650</td>\n",
       "    </tr>\n",
       "  </tbody>\n",
       "</table>\n",
       "</div>"
      ],
      "text/plain": [
       "          ds      trend  yhat_lower  yhat_upper  trend_lower  trend_upper  \\\n",
       "0 2021-01-12  67.367885   61.960895   73.170969    67.367885    67.367885   \n",
       "1 2021-02-12  67.273538   60.809389   72.730936    67.273538    67.273538   \n",
       "2 2021-03-12  67.188321   61.106251   72.346486    67.188321    67.188321   \n",
       "3 2021-04-12  67.093975   61.165755   72.487322    67.093975    67.093975   \n",
       "4 2021-05-12  67.064460   60.176550   71.802601    67.064460    67.064460   \n",
       "\n",
       "   additive_terms  additive_terms_lower  additive_terms_upper    weekly  \\\n",
       "0        0.330680              0.330680              0.330680  0.330680   \n",
       "1       -0.538776             -0.538776             -0.538776 -0.538776   \n",
       "2       -0.538776             -0.538776             -0.538776 -0.538776   \n",
       "3       -0.337056             -0.337056             -0.337056 -0.337056   \n",
       "4       -1.182810             -1.182810             -1.182810 -1.182810   \n",
       "\n",
       "   weekly_lower  weekly_upper  multiplicative_terms  \\\n",
       "0      0.330680      0.330680                   0.0   \n",
       "1     -0.538776     -0.538776                   0.0   \n",
       "2     -0.538776     -0.538776                   0.0   \n",
       "3     -0.337056     -0.337056                   0.0   \n",
       "4     -1.182810     -1.182810                   0.0   \n",
       "\n",
       "   multiplicative_terms_lower  multiplicative_terms_upper       yhat  \n",
       "0                         0.0                         0.0  67.698565  \n",
       "1                         0.0                         0.0  66.734762  \n",
       "2                         0.0                         0.0  66.649546  \n",
       "3                         0.0                         0.0  66.756919  \n",
       "4                         0.0                         0.0  65.881650  "
      ]
     },
     "execution_count": 26,
     "metadata": {},
     "output_type": "execute_result"
    }
   ],
   "source": [
    "future = m.make_future_dataframe(periods=100,freq='M')\n",
    "forecast = m.predict(future)\n",
    "forecast.head()"
   ]
  },
  {
   "cell_type": "code",
   "execution_count": 27,
   "id": "0e42bb8b",
   "metadata": {},
   "outputs": [
    {
     "data": {
      "text/html": [
       "<div>\n",
       "<style scoped>\n",
       "    .dataframe tbody tr th:only-of-type {\n",
       "        vertical-align: middle;\n",
       "    }\n",
       "\n",
       "    .dataframe tbody tr th {\n",
       "        vertical-align: top;\n",
       "    }\n",
       "\n",
       "    .dataframe thead th {\n",
       "        text-align: right;\n",
       "    }\n",
       "</style>\n",
       "<table border=\"1\" class=\"dataframe\">\n",
       "  <thead>\n",
       "    <tr style=\"text-align: right;\">\n",
       "      <th></th>\n",
       "      <th>ds</th>\n",
       "      <th>yhat</th>\n",
       "    </tr>\n",
       "  </thead>\n",
       "  <tbody>\n",
       "    <tr>\n",
       "      <th>0</th>\n",
       "      <td>2021-01-12</td>\n",
       "      <td>67.698565</td>\n",
       "    </tr>\n",
       "    <tr>\n",
       "      <th>1</th>\n",
       "      <td>2021-02-12</td>\n",
       "      <td>66.734762</td>\n",
       "    </tr>\n",
       "    <tr>\n",
       "      <th>2</th>\n",
       "      <td>2021-03-12</td>\n",
       "      <td>66.649546</td>\n",
       "    </tr>\n",
       "    <tr>\n",
       "      <th>3</th>\n",
       "      <td>2021-04-12</td>\n",
       "      <td>66.756919</td>\n",
       "    </tr>\n",
       "    <tr>\n",
       "      <th>4</th>\n",
       "      <td>2021-05-12</td>\n",
       "      <td>65.881650</td>\n",
       "    </tr>\n",
       "    <tr>\n",
       "      <th>...</th>\n",
       "      <td>...</td>\n",
       "      <td>...</td>\n",
       "    </tr>\n",
       "    <tr>\n",
       "      <th>102</th>\n",
       "      <td>2029-11-30</td>\n",
       "      <td>63.452297</td>\n",
       "    </tr>\n",
       "    <tr>\n",
       "      <th>103</th>\n",
       "      <td>2029-12-31</td>\n",
       "      <td>63.623519</td>\n",
       "    </tr>\n",
       "    <tr>\n",
       "      <th>104</th>\n",
       "      <td>2030-01-31</td>\n",
       "      <td>64.506064</td>\n",
       "    </tr>\n",
       "    <tr>\n",
       "      <th>105</th>\n",
       "      <td>2030-02-28</td>\n",
       "      <td>64.478518</td>\n",
       "    </tr>\n",
       "    <tr>\n",
       "      <th>106</th>\n",
       "      <td>2030-03-31</td>\n",
       "      <td>64.448020</td>\n",
       "    </tr>\n",
       "  </tbody>\n",
       "</table>\n",
       "<p>107 rows × 2 columns</p>\n",
       "</div>"
      ],
      "text/plain": [
       "            ds       yhat\n",
       "0   2021-01-12  67.698565\n",
       "1   2021-02-12  66.734762\n",
       "2   2021-03-12  66.649546\n",
       "3   2021-04-12  66.756919\n",
       "4   2021-05-12  65.881650\n",
       "..         ...        ...\n",
       "102 2029-11-30  63.452297\n",
       "103 2029-12-31  63.623519\n",
       "104 2030-01-31  64.506064\n",
       "105 2030-02-28  64.478518\n",
       "106 2030-03-31  64.448020\n",
       "\n",
       "[107 rows x 2 columns]"
      ]
     },
     "execution_count": 27,
     "metadata": {},
     "output_type": "execute_result"
    }
   ],
   "source": [
    "#forecast.tail()\n",
    "forecast[['ds','yhat']]"
   ]
  },
  {
   "cell_type": "markdown",
   "id": "395f5772",
   "metadata": {},
   "source": [
    "# Plot"
   ]
  },
  {
   "cell_type": "code",
   "execution_count": 28,
   "id": "fa92af39",
   "metadata": {
    "scrolled": true
   },
   "outputs": [
    {
     "data": {
      "image/png": "[encoded data removed]",
      "text/plain": [
       "<Figure size 720x432 with 1 Axes>"
      ]
     },
     "metadata": {},
     "output_type": "display_data"
    }
   ],
   "source": [
    "plot1 = m.plot(forecast)"
   ]
  },
  {
   "cell_type": "code",
   "execution_count": 29,
   "id": "72f6dc44",
   "metadata": {},
   "outputs": [
    {
     "data": {
      "image/png": "[encoded data removed]",
      "text/plain": [
       "<Figure size 648x432 with 2 Axes>"
      ]
     },
     "metadata": {},
     "output_type": "display_data"
    }
   ],
   "source": [
    "plt2 = m.plot_components(forecast)"
   ]
  }
 ],
 "metadata": {
  "kernelspec": {
   "display_name": "Python 3 (ipykernel)",
   "language": "python",
   "name": "python3"
  },
  "language_info": {
   "codemirror_mode": {
    "name": "ipython",
    "version": 3
   },
   "file_extension": ".py",
   "mimetype": "text/x-python",
   "name": "python",
   "nbconvert_exporter": "python",
   "pygments_lexer": "ipython3",
   "version": "3.8.12"
  }
 },
 "nbformat": 4,
 "nbformat_minor": 5
}
